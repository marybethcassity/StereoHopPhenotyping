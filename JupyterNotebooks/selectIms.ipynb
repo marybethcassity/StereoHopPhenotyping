{
 "cells": [
  {
   "cell_type": "code",
   "execution_count": 4,
   "metadata": {},
   "outputs": [],
   "source": [
    "import os\n",
    "import cv2\n",
    "import glob\n",
    "import re"
   ]
  },
  {
   "cell_type": "code",
   "execution_count": 5,
   "metadata": {},
   "outputs": [],
   "source": [
    "numbers = re.compile(r'(\\d+)')\n",
    "\n",
    "def numericalSort(value):\n",
    "    parts = numbers.split(value)\n",
    "    parts[1::2] = map(int, parts[1::2])\n",
    "    return parts"
   ]
  },
  {
   "cell_type": "code",
   "execution_count": 9,
   "metadata": {},
   "outputs": [],
   "source": [
    "image_path = r'E:/Hops/Corrected/512/data'\n",
    "mask_path =  r'E:/Hops/Corrected/512/mask'\n",
    "\n",
    "new_image_path = r'C:/Users/Mary Beth Cassity/StereoHopPhenotyping/data/512/Input'\n",
    "new_mask_path = r'C:/Users\\Mary Beth Cassity/StereoHopPhenotyping/data/512/Target'\n",
    "\n",
    "masks = sorted(glob.glob(mask_path + '/*.png'), key = numericalSort)"
   ]
  },
  {
   "cell_type": "code",
   "execution_count": 13,
   "metadata": {},
   "outputs": [],
   "source": [
    "for mask in masks:\n",
    "    \n",
    "    mask_in = cv2.imread(mask)\n",
    "    name = os.path.basename(mask)\n",
    "    im_path = os.path.join(image_path,name)\n",
    "    im_in = cv2.imread(im_path)\n",
    "\n",
    "    assert im_in.any(), \"Corresponding image does not exist.\"\n",
    "\n",
    "    cv2.imwrite(os.path.join(new_image_path,name), im_in)\n",
    "    cv2.imwrite(os.path.join(new_mask_path,name), mask_in)\n",
    "\n",
    "    "
   ]
  }
 ],
 "metadata": {
  "kernelspec": {
   "display_name": "hops",
   "language": "python",
   "name": "python3"
  },
  "language_info": {
   "codemirror_mode": {
    "name": "ipython",
    "version": 3
   },
   "file_extension": ".py",
   "mimetype": "text/x-python",
   "name": "python",
   "nbconvert_exporter": "python",
   "pygments_lexer": "ipython3",
   "version": "3.10.10"
  },
  "orig_nbformat": 4
 },
 "nbformat": 4,
 "nbformat_minor": 2
}
