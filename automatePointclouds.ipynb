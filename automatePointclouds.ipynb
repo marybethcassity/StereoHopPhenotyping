{
 "cells": [
  {
   "cell_type": "code",
   "execution_count": null,
   "id": "7d3dc685",
   "metadata": {},
   "outputs": [],
   "source": [
    "import cv2\n",
    "import numpy as np\n",
    "import matplotlib.pyplot as plt\n",
    "import open3d as o3d\n",
    "import os"
   ]
  },
  {
   "cell_type": "code",
   "execution_count": null,
   "id": "6f03db70",
   "metadata": {},
   "outputs": [],
   "source": [
    "def create_output(data, filename):\n",
    "    data = data.reshape(-1,6)\n",
    "    #vertices = np.hstack([vertices.reshape(-1,3),colors])\n",
    "    \n",
    "    ply_header = '''ply\n",
    "        format ascii 1.0\n",
    "        element vertex %(vert_num)d\n",
    "        property float x\n",
    "        property float y\n",
    "        property float z\n",
    "        property uchar red\n",
    "        property uchar green\n",
    "        property uchar blue\n",
    "        end_header\n",
    "        '''\n",
    "    \n",
    "    with open(filename, 'w') as f:\n",
    "        f.write(ply_header %dict(vert_num=len(data)))\n",
    "        np.savetxt(f,data,'%f %f %f %d %d %d')\n",
    "    "
   ]
  },
  {
   "cell_type": "code",
   "execution_count": null,
   "id": "1e8b32be",
   "metadata": {},
   "outputs": [],
   "source": [
    "win_size = 5\n",
    "min_disp = 25\n",
    "max_disp = 281\n",
    "num_disp = max_disp - min_disp \n",
    "\n",
    "stereo = cv2.StereoSGBM_create(minDisparity= min_disp,\n",
    "    numDisparities = num_disp,\n",
    "    blockSize = 3,\n",
    "    uniquenessRatio = 5,\n",
    "    speckleWindowSize = 5,\n",
    "    speckleRange = 5,\n",
    "    disp12MaxDiff = 1,\n",
    "    P1 = 8*3*win_size**2,\n",
    "    P2 =32*3*win_size**2)  \n",
    "\n",
    "fx = 1054.7600\n",
    "fy = 1054.4700\n",
    "cx = 956.0000\n",
    "cy = 570.3380\n",
    "f = fx + fy / 2\n",
    "Tx = 0.1197760"
   ]
  },
  {
   "cell_type": "code",
   "execution_count": null,
   "id": "7cb343a3",
   "metadata": {},
   "outputs": [],
   "source": [
    "def create_pointclouds(left_im, right_im, num, out_path):\n",
    "    \n",
    "    disparity_map = stereo.compute(left_im, right_im)\n",
    "    disparity_map = np.float32(np.divide(disparity_map,16))\n",
    "    \n",
    "    shape = np.shape(disparity_map)\n",
    "    x = shape[0]\n",
    "    y = shape[1]\n",
    "   \n",
    "    point_cloud = np.zeros([x,y,3])\n",
    "    point_num = 0\n",
    "    \n",
    "    for i in range(x):\n",
    "        for j in range(y):\n",
    "            pc_x = (i - cx)*Tx / disparity_map[i,j]\n",
    "            pc_y = (j - cy)*Tx / disparity_map[i,j]\n",
    "            pc_z = (f*Tx)/disparity_map[i,j]\n",
    "            point_cloud[i,j,0] = pc_x\n",
    "            point_cloud[i,j,1] = pc_y\n",
    "            point_cloud[i,j,2] = pc_z\n",
    "        \n",
    "    hsv = cv2.cvtColor(left_im, cv2.COLOR_BGR2HSV)\n",
    "    rgb = cv2.cvtColor(left_im, cv2.COLOR_BGR2RGB)\n",
    "    \n",
    "    #mask by hue \n",
    "    \n",
    "    lower_green = np.array([35,30,30])\n",
    "    upper_green = np.array([70,255,255])\n",
    "    mask_hue = cv2.inRange(hsv, lower_green, upper_green)\n",
    "    \n",
    "    mask_map = disparity_map > disparity_map.min()\n",
    "    point_cloud_z = point_cloud[:,:,2]\n",
    "    point_cloud_x = point_cloud[:,:,0]\n",
    "    mask = np.logical_and(mask_map,point_cloud_z<3)\n",
    "    \n",
    "    mask = np.logical_and(mask,mask_hue)\n",
    "    \n",
    "    \n",
    "    output_points = point_cloud[mask]\n",
    "    output_colors = rgb[mask]\n",
    "\n",
    "    output = np.hstack([output_points, output_colors])\n",
    "        \n",
    "    output_file = os.path.join(out_path,num+\".ply\")\n",
    "    create_output(output, output_file)\n",
    "    \n",
    "    pcd = o3d.io.read_point_cloud(output_file)\n",
    "    pcd_down = pcd.uniform_down_sample(every_k_points=5)\n",
    "    cl, ind = pcd_down.remove_statistical_outlier(nb_neighbors=20, std_ratio=2.0)\n",
    "    cl2, ind = cl.remove_radius_outlier(nb_points=16, radius=0.05)\n",
    "    o3d.io.write_point_cloud(output_file, cl2)"
   ]
  },
  {
   "cell_type": "code",
   "execution_count": null,
   "id": "026532ad",
   "metadata": {},
   "outputs": [],
   "source": [
    "path = r'' #path to frames from svo\n",
    "out_path = r'' #path to point cloud "
   ]
  },
  {
   "cell_type": "code",
   "execution_count": null,
   "id": "d121b016",
   "metadata": {},
   "outputs": [],
   "source": [
    "count = 0\n",
    "\n",
    "for image in os.listdir(path):\n",
    "    side = image.split(\"0\",1)[0]\n",
    "    label = image.split(\"0\",1)[1]\n",
    "    num = \"0\" + label.split(\".\",1)[0] \n",
    "    \n",
    "    if(side==\"left\"):\n",
    "        count = count + 1\n",
    "        if(count%20==0): #choose every 20th frame for good registration\n",
    "        \n",
    "            left_im = cv2.imread(os.path.join(path,image))\n",
    "            right_im = cv2.imread(os.path.join(path,\"right\"+\"0\"+label))\n",
    "            \n",
    "            create_pointclouds(left_im, right_im, num, out_path)\n",
    "        "
   ]
  },
  {
   "cell_type": "code",
   "execution_count": null,
   "id": "da36fd75",
   "metadata": {},
   "outputs": [],
   "source": [
    "#just check some\n",
    "\n",
    "output_file = r'' #choose ply file to check\n",
    "pcd = o3d.io.read_point_cloud(output_file)\n",
    "o3d.visualization.draw_geometries([pcd])"
   ]
  },
  {
   "cell_type": "code",
   "execution_count": null,
   "id": "e8a4e4e5",
   "metadata": {},
   "outputs": [],
   "source": []
  }
 ],
 "metadata": {
  "kernelspec": {
   "display_name": "Python 3 (ipykernel)",
   "language": "python",
   "name": "python3"
  },
  "language_info": {
   "codemirror_mode": {
    "name": "ipython",
    "version": 3
   },
   "file_extension": ".py",
   "mimetype": "text/x-python",
   "name": "python",
   "nbconvert_exporter": "python",
   "pygments_lexer": "ipython3",
   "version": "3.9.7"
  }
 },
 "nbformat": 4,
 "nbformat_minor": 5
}
